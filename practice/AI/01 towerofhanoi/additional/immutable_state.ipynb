{
 "cells": [
  {
   "cell_type": "markdown",
   "metadata": {},
   "source": [
    "## Appendix: Immutable State\n",
    "When we are building searching algorithms, we need to keep track of what states we've already tried and what we are going to try next. In a basic graph search algorithm we call these the *explored* list and the *frontier* respectively. \n",
    "\n",
    "If possible, you should always use immutable objects when we build these lists. Assuming you have followed the section on breadth first search in the [Tower of Hanoi](towerofhanoi.ipynb) notebook, then read on for a further explanation.\n",
    "\n",
    "Consider this really simple search problem. We want to find two numbers that add together to make 5. Call the two numbers `x` and `y`. We will start with both set to zero. At each step, we can add 1 to `x` or `y`.\n",
    "\n",
    "In the code below, we use a list to store the current state, i.e. the current values of `x` and `y`. We add it to the explored list, then generate the two states that result from adding 1 to `x` or `y`. But there is a problem with the code below. Try running it: it will enter an infinite loop!"
   ]
  },
  {
   "cell_type": "code",
   "execution_count": 9,
   "metadata": {},
   "outputs": [
    {
     "name": "stdout",
     "output_type": "stream",
     "text": [
      "Exploring state [0, 0]\n",
      "Exploring state [1, 0]\n",
      "Exploring state [0, 1]\n",
      "Exploring state [2, 0]\n",
      "Exploring state [1, 1]\n",
      "Exploring state [0, 2]\n",
      "Exploring state [3, 0]\n",
      "Exploring state [2, 1]\n",
      "Exploring state [1, 2]\n",
      "Exploring state [0, 3]\n",
      "Exploring state [4, 0]\n",
      "Exploring state [3, 1]\n",
      "Exploring state [2, 2]\n",
      "Exploring state [1, 3]\n",
      "Exploring state [0, 4]\n",
      "Solution found! 5 + 0 = 5\n"
     ]
    }
   ],
   "source": [
    "explored = []\n",
    "frontier = []\n",
    "\n",
    "current_values = [0, 0]\n",
    "while sum(current_values) != 5:\n",
    "    print(f\"Exploring state {current_values}\")\n",
    "    explored.append(current_values)\n",
    "    \n",
    "    new_state1 = current_values[:]\n",
    "    new_state1[0] += 1\n",
    "    \n",
    "    new_state2 = current_values[:]\n",
    "    new_state2[1] += 1\n",
    "    \n",
    "    if new_state1 not in explored and new_state1 not in frontier:\n",
    "        frontier.append(new_state1)\n",
    "    if new_state2 not in explored and new_state2 not in frontier:\n",
    "        frontier.append(new_state2)\n",
    "    \n",
    "    current_values = frontier.pop(0)\n",
    "\n",
    "x, y = current_values\n",
    "print(f\"Solution found! {x} + {y} = 5\")\n",
    "            "
   ]
  },
  {
   "cell_type": "markdown",
   "metadata": {},
   "source": [
    "The problem here is that lists are *mutable*, their value can be changed, even if they have been assigned to a different name. Here is a simplier example to demonstrate:"
   ]
  },
  {
   "cell_type": "code",
   "execution_count": 10,
   "metadata": {},
   "outputs": [
    {
     "name": "stdout",
     "output_type": "stream",
     "text": [
      "[5, 0, 5]\n"
     ]
    }
   ],
   "source": [
    "my_list = [5, 5, 5]\n",
    "\n",
    "another_list = my_list\n",
    "another_list[1] = 0\n",
    "\n",
    "print(my_list) # guess what you think the result is before running the cell"
   ]
  },
  {
   "cell_type": "markdown",
   "metadata": {},
   "source": [
    "In the search code above there is only ever one value for `x` and `y`. Even though the code is assigning that list in lots of different places, only one copy of that list actually exists, and its values are being increased. The code will never generate an odd number, because every time it adds a value to `x` it also adds a value to `y`.\n",
    "\n",
    "This will also mean that the contents of the explored states list are being modified as well (try making the code print the list of explored states if you are unconvinced). The example above will never generate the same state twice, because the numbers are always increasing. But in another example this could lead to an infinite loop where we never manage to leave the start state, because we keep generating states that we've previously visted, but haven't properly been able to keep track of. This could happen in the Tower of Hanoi problem, for example.\n",
    "\n",
    "It is possible to ensure that the values of a list never change, but Python has a data structure which is perfect for this: the tuple. Modifying a tuple's contents is not allowed:"
   ]
  },
  {
   "cell_type": "code",
   "execution_count": 11,
   "metadata": {},
   "outputs": [
    {
     "ename": "TypeError",
     "evalue": "'tuple' object does not support item assignment",
     "output_type": "error",
     "traceback": [
      "\u001b[1;31m---------------------------------------------------------------------------\u001b[0m",
      "\u001b[1;31mTypeError\u001b[0m                                 Traceback (most recent call last)",
      "\u001b[1;32m<ipython-input-11-457d59632a9a>\u001b[0m in \u001b[0;36m<module>\u001b[1;34m\u001b[0m\n\u001b[0;32m      2\u001b[0m \u001b[1;33m\u001b[0m\u001b[0m\n\u001b[0;32m      3\u001b[0m \u001b[0manother_tuple\u001b[0m \u001b[1;33m=\u001b[0m \u001b[0mmy_tuple\u001b[0m \u001b[1;31m# this is fine\u001b[0m\u001b[1;33m\u001b[0m\u001b[1;33m\u001b[0m\u001b[0m\n\u001b[1;32m----> 4\u001b[1;33m \u001b[0manother_tuple\u001b[0m\u001b[1;33m[\u001b[0m\u001b[1;36m1\u001b[0m\u001b[1;33m]\u001b[0m \u001b[1;33m=\u001b[0m \u001b[1;36m0\u001b[0m \u001b[1;31m# this will cause an error\u001b[0m\u001b[1;33m\u001b[0m\u001b[1;33m\u001b[0m\u001b[0m\n\u001b[0m",
      "\u001b[1;31mTypeError\u001b[0m: 'tuple' object does not support item assignment"
     ]
    }
   ],
   "source": [
    "my_tuple = (5, 5, 5)\n",
    "\n",
    "another_tuple = my_tuple # this is fine\n",
    "another_tuple[1] = 0 # this will cause an error"
   ]
  },
  {
   "cell_type": "markdown",
   "metadata": {},
   "source": [
    "So whenever possible, it is better to use a tuple than a list. If you are working with objects of other classes, then you should check whether the methods you call on those classes modify the contents or return new values. Strings, for example, are also immutable. But most containers are not.\n",
    "\n",
    "**Exercise:** try to modify the code above to fix the error by using tuples rather than lists.\n",
    "\n",
    "If you are forced to use mutable objects for some reason, one way around this problem is to *copy* the object, probably a *deep copy*. There is a library in Python called `copy` which provides the methods `copy.copy(..)` and `copy.deepcopy(..)`. Some objects also provide a `.copy()` method. There is some sample code below, but you can read more about these other techniques online."
   ]
  },
  {
   "cell_type": "code",
   "execution_count": 13,
   "metadata": {},
   "outputs": [
    {
     "name": "stdout",
     "output_type": "stream",
     "text": [
      "[5, 5, 5]\n"
     ]
    }
   ],
   "source": [
    "# some objects provide their own .copy() method\n",
    "my_list = [5, 5, 5]\n",
    "another_list = my_list.copy()\n",
    "another_list[1] = 0\n",
    "print(my_list)"
   ]
  },
  {
   "cell_type": "code",
   "execution_count": 14,
   "metadata": {},
   "outputs": [],
   "source": [
    "import copy"
   ]
  },
  {
   "cell_type": "code",
   "execution_count": 15,
   "metadata": {},
   "outputs": [
    {
     "name": "stdout",
     "output_type": "stream",
     "text": [
      "[5, 5, 5]\n"
     ]
    }
   ],
   "source": [
    "# the copy module provides a function to copy arbitrary objects\n",
    "my_list = [5, 5, 5]\n",
    "another_list = copy.copy(my_list)\n",
    "another_list[1] = 0\n",
    "print(my_list)"
   ]
  },
  {
   "cell_type": "code",
   "execution_count": 16,
   "metadata": {},
   "outputs": [
    {
     "name": "stdout",
     "output_type": "stream",
     "text": [
      "[[1, 2], [0, 0], [5, 6]]\n"
     ]
    }
   ],
   "source": [
    "# copy.copy(..) is not enough for nested lists/objects\n",
    "my_list = [[1, 2], [3, 4], [5, 6]]\n",
    "another_list = copy.copy(my_list)\n",
    "another_list[1][0] = 0\n",
    "another_list[1][1] = 0\n",
    "print(my_list)"
   ]
  },
  {
   "cell_type": "code",
   "execution_count": 17,
   "metadata": {},
   "outputs": [
    {
     "name": "stdout",
     "output_type": "stream",
     "text": [
      "[[1, 2], [3, 4], [5, 6]]\n"
     ]
    }
   ],
   "source": [
    "# copy.deepcopy(..) is required\n",
    "my_list = [[1, 2], [3, 4], [5, 6]]\n",
    "another_list = copy.deepcopy(my_list)\n",
    "another_list[1][0] = 0\n",
    "another_list[1][1] = 0\n",
    "print(my_list)"
   ]
  }
 ],
 "metadata": {
  "kernelspec": {
   "display_name": "Python 3",
   "language": "python",
   "name": "python3"
  },
  "language_info": {
   "codemirror_mode": {
    "name": "ipython",
    "version": 3
   },
   "file_extension": ".py",
   "mimetype": "text/x-python",
   "name": "python",
   "nbconvert_exporter": "python",
   "pygments_lexer": "ipython3",
   "version": "3.8.8"
  }
 },
 "nbformat": 4,
 "nbformat_minor": 1
}
